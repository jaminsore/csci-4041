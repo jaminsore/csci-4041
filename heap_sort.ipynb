{
 "cells": [
  {
   "cell_type": "code",
   "execution_count": 9,
   "metadata": {
    "collapsed": false
   },
   "outputs": [],
   "source": [
    "import math\n",
    "\n",
    "def left(i):\n",
    "    return 2 * i + 1\n",
    "\n",
    "def right(i):\n",
    "    return 2 * i + 2\n",
    "\n",
    "def parent(i):\n",
    "    if i % 2 == 1:\n",
    "        return i // 2\n",
    "    return i // 2 - 1\n",
    "\n",
    "def heap_size(arr):\n",
    "    return int(math.log(len(arr), 2))\n",
    "\n",
    "\n",
    "def max_heapify(arr, i):\n",
    "    while True:\n",
    "        l = left(i)\n",
    "        r = right(i)\n",
    "        hs = arr.heap_size \n",
    "        print (hs)\n",
    "        largest = l if l <=  hs and arr[l] > arr[i] else i\n",
    "        if r <= hs and arr[r] > arr[largest]: largest = r\n",
    "        print (l, r, hs, largest)\n",
    "        if largest == i:\n",
    "            break\n",
    "        print(arr[largest])\n",
    "        arr[i], arr[largest] = arr[largest], arr[i]\n",
    "        i = largest\n",
    "        \n",
    "        \n",
    "        "
   ]
  },
  {
   "cell_type": "code",
   "execution_count": 10,
   "metadata": {
    "collapsed": false
   },
   "outputs": [
    {
     "name": "stdout",
     "output_type": "stream",
     "text": [
      "5\n",
      "3\n",
      "11 12 3 5\n",
      "4\n",
      "3\n",
      "9 10 3 4\n",
      "3\n",
      "3\n",
      "7 8 3 3\n",
      "2\n",
      "3\n",
      "5 6 3 2\n",
      "1\n",
      "3\n",
      "3 4 3 3\n",
      "3\n",
      "3\n",
      "7 8 3 3\n"
     ]
    }
   ],
   "source": [
    "arr = list(range(10))\n",
    "\n",
    "class Heap(list):\n",
    "    def __init__(self, *args, **kwargs):\n",
    "        list.__init__(self, *args, **kwargs)\n",
    "        self.heap_size = heap_size(self)\n",
    "        \n",
    "        \n",
    "arr = Heap(range(10))\n",
    "\n",
    "def build_max_heap(arr):\n",
    "    for i in reversed(range(1, len(arr) // 2 + 1)):\n",
    "        print (i)\n",
    "#         arr[0], arr[i] = arr[i], arr[0]\n",
    "        max_heapify(arr, i)\n",
    "        \n",
    "build_max_heap(arr)"
   ]
  },
  {
   "cell_type": "code",
   "execution_count": 11,
   "metadata": {
    "collapsed": false
   },
   "outputs": [
    {
     "data": {
      "text/plain": [
       "[0, 3, 2, 1, 4, 5, 6, 7, 8, 9]"
      ]
     },
     "execution_count": 11,
     "metadata": {},
     "output_type": "execute_result"
    }
   ],
   "source": [
    "arr"
   ]
  },
  {
   "cell_type": "code",
   "execution_count": null,
   "metadata": {
    "collapsed": true
   },
   "outputs": [],
   "source": []
  }
 ],
 "metadata": {
  "kernelspec": {
   "display_name": "Python 3",
   "language": "python",
   "name": "python3"
  },
  "language_info": {
   "codemirror_mode": {
    "name": "ipython",
    "version": 3
   },
   "file_extension": ".py",
   "mimetype": "text/x-python",
   "name": "python",
   "nbconvert_exporter": "python",
   "pygments_lexer": "ipython3",
   "version": "3.4.3"
  }
 },
 "nbformat": 4,
 "nbformat_minor": 0
}
