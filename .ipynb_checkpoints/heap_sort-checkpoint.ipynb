{
 "cells": [
  {
   "cell_type": "code",
   "execution_count": 1,
   "metadata": {
    "collapsed": false
   },
   "outputs": [],
   "source": [
    "import math\n",
    "\n",
    "def left(i):\n",
    "    return 2 * i + 1\n",
    "\n",
    "def right(i):\n",
    "    return 2 * i + 2\n",
    "\n",
    "def parent(i):\n",
    "    return math.ceil(i / 2) - 1\n",
    "\n",
    "def max_heapify(arr, i, heap_size):\n",
    "    hs = heap_size\n",
    "    while True:\n",
    "        l = left(i)\n",
    "        r = right(i)\n",
    "        if l < hs and arr[l] > arr[i]:\n",
    "            largest = l\n",
    "        else:\n",
    "            largest = i\n",
    "\n",
    "        if r < hs and arr[r] > arr[largest]:\n",
    "            largest = r\n",
    "\n",
    "        if largest == i:\n",
    "            break\n",
    "        print ('A[%d] <-> A[%d], [%d , %d]' % (i, largest, arr[i], arr[largest]))\n",
    "        arr[i], arr[largest] = arr[largest], arr[i]\n",
    "        \n",
    "        i = largest\n",
    "        \n",
    "        \n"
   ]
  },
  {
   "cell_type": "code",
   "execution_count": 26,
   "metadata": {
    "collapsed": false
   },
   "outputs": [],
   "source": [
    "arr = list(range(9))\n",
    "\n",
    "def build_max_heap(arr):\n",
    "    for i in range(math.ceil(len(arr)/2)-1, -1, -1):\n",
    "        max_heapify(arr, i, len(arr)) \n",
    "        \n",
    "\n",
    "def heapsort(A):\n",
    "    build_max_heap(A)\n",
    "    heap_size = len(A)\n",
    "    print(A)\n",
    "    for i in range(len(A)-1, 0, -1):\n",
    "        A[0], A[i] = A[i], A[0]\n",
    "        heap_size -= 1\n",
    "        max_heapify(A, 0, heap_size)\n",
    "        print('i=%d, A=%s' % (i, A))\n",
    "# build_max_heap(arr)"
   ]
  },
  {
   "cell_type": "code",
   "execution_count": 27,
   "metadata": {
    "collapsed": false
   },
   "outputs": [
    {
     "name": "stdout",
     "output_type": "stream",
     "text": [
      "A[2] <-> A[6], [2 , 20]\n",
      "A[1] <-> A[3], [13 , 25]\n",
      "A[0] <-> A[1], [5 , 25]\n",
      "A[1] <-> A[3], [5 , 13]\n",
      "A[3] <-> A[7], [5 , 8]\n",
      "[25, 13, 20, 8, 7, 17, 2, 5, 4]\n",
      "A[0] <-> A[2], [4 , 20]\n",
      "A[2] <-> A[5], [4 , 17]\n",
      "i=8, A=[20, 13, 17, 8, 7, 4, 2, 5, 25]\n",
      "A[0] <-> A[2], [5 , 17]\n",
      "i=7, A=[17, 13, 5, 8, 7, 4, 2, 20, 25]\n",
      "A[0] <-> A[1], [2 , 13]\n",
      "A[1] <-> A[3], [2 , 8]\n",
      "i=6, A=[13, 8, 5, 2, 7, 4, 17, 20, 25]\n",
      "A[0] <-> A[1], [4 , 8]\n",
      "A[1] <-> A[4], [4 , 7]\n",
      "i=5, A=[8, 7, 5, 2, 4, 13, 17, 20, 25]\n",
      "A[0] <-> A[1], [4 , 7]\n",
      "i=4, A=[7, 4, 5, 2, 8, 13, 17, 20, 25]\n",
      "A[0] <-> A[2], [2 , 5]\n",
      "i=3, A=[5, 4, 2, 7, 8, 13, 17, 20, 25]\n",
      "A[0] <-> A[1], [2 , 4]\n",
      "i=2, A=[4, 2, 5, 7, 8, 13, 17, 20, 25]\n",
      "i=1, A=[2, 4, 5, 7, 8, 13, 17, 20, 25]\n"
     ]
    },
    {
     "data": {
      "text/plain": [
       "[2, 4, 5, 7, 8, 13, 17, 20, 25]"
      ]
     },
     "execution_count": 27,
     "metadata": {},
     "output_type": "execute_result"
    }
   ],
   "source": [
    "arr = [5, 13, 2, 25, 7, 17, 20, 8, 4]\n",
    "heapsort(arr)\n",
    "arr"
   ]
  },
  {
   "cell_type": "code",
   "execution_count": null,
   "metadata": {
    "collapsed": true
   },
   "outputs": [],
   "source": []
  }
 ],
 "metadata": {
  "kernelspec": {
   "display_name": "Python 3",
   "language": "python",
   "name": "python3"
  },
  "language_info": {
   "codemirror_mode": {
    "name": "ipython",
    "version": 3
   },
   "file_extension": ".py",
   "mimetype": "text/x-python",
   "name": "python",
   "nbconvert_exporter": "python",
   "pygments_lexer": "ipython3",
   "version": "3.4.3"
  }
 },
 "nbformat": 4,
 "nbformat_minor": 0
}
